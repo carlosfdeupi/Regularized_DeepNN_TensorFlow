{
  "cells": [
    {
      "cell_type": "markdown",
      "metadata": {
        "id": "view-in-github",
        "colab_type": "text"
      },
      "source": [
        "<a href=\"https://colab.research.google.com/github/carlosfdeupi/Regularized_DeepNN_TensorFlow/blob/main/regularized_deepNN_tensorflow.ipynb\" target=\"_parent\"><img src=\"https://colab.research.google.com/assets/colab-badge.svg\" alt=\"Open In Colab\"/></a>"
      ]
    },
    {
      "cell_type": "markdown",
      "metadata": {
        "id": "WQInL2R-rxRP"
      },
      "source": [
        "# Image Application: cat or not?\n",
        "\n",
        "**After this assignment you will be able to:**\n",
        "- Build and apply a deep neural network to supervised learning. \n",
        "- Learn how to do data normalization\n",
        "- learn how to do weight initialization\n",
        "- Learn how to use regularization\n",
        "\n",
        "Let's get started!"
      ]
    },
    {
      "cell_type": "markdown",
      "metadata": {
        "id": "xys4aQ5UrxRT"
      },
      "source": [
        "## 1 - Packages"
      ]
    },
    {
      "cell_type": "markdown",
      "metadata": {
        "id": "hei_-Ma-tOhR"
      },
      "source": [
        "**Exercise**: Please mount your Google drive, and set up your working folder here."
      ]
    },
    {
      "cell_type": "code",
      "execution_count": null,
      "metadata": {
        "colab": {
          "base_uri": "https://localhost:8080/"
        },
        "id": "_0U8Y54Congl",
        "outputId": "ce12d3b4-1eab-44a0-9242-706cbcf370db"
      },
      "outputs": [
        {
          "output_type": "stream",
          "name": "stdout",
          "text": [
            "Mounted at /content/drive\n"
          ]
        }
      ],
      "source": [
        "from google.colab import drive\n",
        "drive.mount('/content/drive')"
      ]
    },
    {
      "cell_type": "code",
      "execution_count": null,
      "metadata": {
        "id": "ibN88sy3sxy5"
      },
      "outputs": [],
      "source": [
        "import os\n",
        "# start your code here\n",
        "os.chdir(\"/content/drive/MyDrive/Homework3\") # change your working folder here\n",
        "# end your code here"
      ]
    },
    {
      "cell_type": "markdown",
      "metadata": {
        "id": "o9H7MX-2rxRT"
      },
      "source": [
        "Let's first import all the packages that you will need during this assignment. \n",
        "- [numpy](https://www.numpy.org/) is the fundamental package for scientific computing with Python.\n",
        "- [matplotlib](http://matplotlib.org) is a library to plot graphs in Python.\n",
        "- [h5py](http://www.h5py.org) is a common package to interact with a dataset that is stored on an H5 file.\n",
        "- [PIL](http://www.pythonware.com/products/pil/) and [scipy](https://www.scipy.org/) are used here to test your model with your own picture at the end.\n",
        "- dnn_app_utils provides the customized functions that will be used in this notebook.\n",
        "- np.random.seed(1) is used to keep all the random function calls consistent. It will help us grade your work."
      ]
    },
    {
      "cell_type": "code",
      "execution_count": null,
      "metadata": {
        "id": "MY54vu0IrxRU"
      },
      "outputs": [],
      "source": [
        "import time\n",
        "import numpy as np\n",
        "import tensorflow as tf\n",
        "import h5py\n",
        "import matplotlib.pyplot as plt\n",
        "import dnn_app_utils_v3 as du\n",
        "from skimage.transform import rescale, resize, downscale_local_mean\n",
        "\n",
        "# refresh 'planar_utils' module\n",
        "import imp\n",
        "imp.reload(du)\n",
        "\n",
        "%matplotlib inline\n",
        "plt.rcParams['figure.figsize'] = (5.0, 4.0) # set default size of plots\n",
        "plt.rcParams['image.interpolation'] = 'nearest'\n",
        "plt.rcParams['image.cmap'] = 'gray'\n",
        "\n",
        "%load_ext autoreload\n",
        "%autoreload 2\n",
        "\n",
        "np.random.seed(1)\n",
        "tf.random.set_seed(1)"
      ]
    },
    {
      "cell_type": "markdown",
      "metadata": {
        "id": "Ng-fWoBBrxRW"
      },
      "source": [
        "## 2 - Dataset\n",
        "\n",
        "**Problem Statement**: You are given a dataset (\"data.h5\") containing:\n",
        "    - a training set of m_train images labelled as cat (1) or non-cat (0)\n",
        "    - a test set of m_test images labelled as cat and non-cat\n",
        "    - each image is of shape (num_px, num_px, 3) where 3 is for the 3 channels (RGB).\n",
        "\n",
        "Let's get more familiar with the dataset. Load the data by running the cell below.\n",
        "\n",
        "The training input and output are stored in 'train_x_orig' and 'train_y'. The test input and output are stored in 'test_x_orig' and 'test_y'. "
      ]
    },
    {
      "cell_type": "code",
      "execution_count": null,
      "metadata": {
        "id": "JeriZ2MHrxRW"
      },
      "outputs": [],
      "source": [
        "train_x_orig, train_y, test_x_orig, test_y, classes = du.load_data()\n",
        "#print(classes)"
      ]
    },
    {
      "cell_type": "markdown",
      "metadata": {
        "id": "B6gdY7eWrxRX"
      },
      "source": [
        "The following code will show you an image in the dataset. Feel free to change the index and re-run the cell multiple times to see other images. "
      ]
    },
    {
      "cell_type": "code",
      "execution_count": null,
      "metadata": {
        "colab": {
          "base_uri": "https://localhost:8080/",
          "height": 286
        },
        "id": "GLC4JfABrxRX",
        "outputId": "c59e4a7d-7cba-4397-8868-00b4181353cc"
      },
      "outputs": [
        {
          "output_type": "stream",
          "name": "stdout",
          "text": [
            "y = 1. It's a cat picture.\n"
          ]
        },
        {
          "output_type": "display_data",
          "data": {
            "image/png": "[encoded data removed]",
            "text/plain": [
              "<Figure size 360x288 with 1 Axes>"
            ]
          },
          "metadata": {
            "needs_background": "light"
          }
        }
      ],
      "source": [
        "# Example of a picture\n",
        "index = 200\n",
        "plt.imshow(train_x_orig[index])\n",
        "print(\"y = \" + str(train_y[index,0]) + \". It's a \" + classes[train_y[index,0]].decode(\"utf-8\") +  \" picture.\")\n",
        "#print(train_x_orig[index].shape,train_x_orig[index])"
      ]
    },
    {
      "cell_type": "markdown",
      "metadata": {
        "id": "8LcmDz99lbsD"
      },
      "source": [
        "Let's explore more about the training data. We are curious about the shape of each image and can use 'train_x_orig[index].shape' to expore it. \n",
        "**Exercise**: Can you tell what the pixel number of each image is?"
      ]
    },
    {
      "cell_type": "code",
      "execution_count": null,
      "metadata": {
        "colab": {
          "base_uri": "https://localhost:8080/"
        },
        "id": "tKIwmFCyrxRY",
        "outputId": "6fe97eb4-eb33-4bf0-ff65-33921734a4e9"
      },
      "outputs": [
        {
          "output_type": "stream",
          "name": "stdout",
          "text": [
            "Each image is of size:  (64, 64, 3)\n",
            "Number of pixels in each column of the image: 64\n"
          ]
        }
      ],
      "source": [
        "# Explore your dataset \n",
        "image_shape=train_x_orig[index].shape\n",
        "print(\"Each image is of size: \", image_shape)\n",
        "#start your code here\n",
        "num_px= image_shape[0]   # the number of pixels in each column of the image. Hint: The 1st element in image_shape indicates this number?\n",
        "#end your code here\n",
        "print('Number of pixels in each column of the image:', num_px)"
      ]
    },
    {
      "cell_type": "markdown",
      "metadata": {
        "id": "SBoQZoWQpBU4"
      },
      "source": [
        "We just take a close look at an image of the image set. Now, let's take a look at the whole training set. \n",
        "\n",
        "**Exercise**: The first 4 lines in the following cell print out the shape of the training images. There are 209 images, and each image has 64 by 64 pixcels and GRB color. \n",
        "\n",
        "Please print out the shape of the test input (stored in `test_x_orig`) and output (stored in `test_y`) data, and tell how many images we have in the test data. "
      ]
    },
    {
      "cell_type": "code",
      "execution_count": null,
      "metadata": {
        "colab": {
          "base_uri": "https://localhost:8080/"
        },
        "id": "79Q7fiuYnP1C",
        "outputId": "31894925-219a-4b1c-f6dc-0339a38b6cf1"
      },
      "outputs": [
        {
          "output_type": "stream",
          "name": "stdout",
          "text": [
            "train_x_orig shape:  (209, 64, 64, 3)\n",
            "Number of training examples:  209\n",
            "test_x_orig shape:  (50, 64, 64, 3)\n",
            "test_y shape:  (50, 1)\n",
            "Number of test examples:  50\n"
          ]
        }
      ],
      "source": [
        "train_x_shape=train_x_orig.shape\n",
        "m_train = train_x_shape[0]\n",
        "print (\"train_x_orig shape: \",train_x_shape)\n",
        "print (\"Number of training examples: \" ,m_train)\n",
        "# start your code here\n",
        "test_x_shape= test_x_orig.shape\n",
        "test_y_shape= test_y.shape\n",
        "m_test = test_x_shape[0]\n",
        "# end your code here\n",
        "\n",
        "print (\"test_x_orig shape: \" ,test_x_shape)\n",
        "print (\"test_y shape: \" , test_y_shape)\n",
        "print (\"Number of test examples: \" ,m_test)"
      ]
    },
    {
      "cell_type": "markdown",
      "metadata": {
        "id": "pMoCSiCWrxRY"
      },
      "source": [
        "As mentioned in our lecture, you reshape and standardize the images before feeding them to the network. The code is given in the cell below.\n",
        "\n",
        "![alt text](https://drive.google.com/uc?id=12XXwVJpcT-moegSdzejC-W-hD79qDSk9)\n",
        "<caption><center> <u>Figure 1</u>: Image to vector conversion. <br> </center></caption>"
      ]
    },
    {
      "cell_type": "code",
      "execution_count": null,
      "metadata": {
        "id": "nrdXco3grxRY"
      },
      "outputs": [],
      "source": [
        "# Reshape the training and test examples \n",
        "train_x_flatten = train_x_orig.reshape(train_x_shape[0], -1)   # The \"-1\" makes reshape flatten the remaining dimensions\n",
        "test_x_flatten = test_x_orig.reshape(test_x_orig.shape[0], -1)"
      ]
    },
    {
      "cell_type": "markdown",
      "metadata": {
        "id": "vvmsCTJfN_OS"
      },
      "source": [
        "Data normalization can help us accelerate the training process. The RGB values of an image are integers in the range of [0,255]. We can normalize the training images to have the feature values between 0 and 1 by using `train_x = train_x_flatten/255.0`.\n",
        "\n",
        "**Exercise**: We normalize the training images using `train_x = train_x_flatten/255.0` in the 1st line. Please normalize the test images to have feature values between 0 and 1."
      ]
    },
    {
      "cell_type": "code",
      "execution_count": null,
      "metadata": {
        "colab": {
          "base_uri": "https://localhost:8080/"
        },
        "id": "XpmJC7S8OlGL",
        "outputId": "b2e90144-1c24-4706-d114-887f5bbc8c1a"
      },
      "outputs": [
        {
          "output_type": "stream",
          "name": "stdout",
          "text": [
            "train_x's shape: (209, 12288)\n",
            "test_x's shape: (50, 12288)\n",
            "train_y's shape: (209, 1)\n",
            "test_y's shape: (50, 1)\n"
          ]
        }
      ],
      "source": [
        "# Standardize data to have feature values between 0 and 1.\n",
        "train_x = train_x_flatten/255.0\n",
        "\n",
        "#start your code here\n",
        "test_x = test_x_flatten/255.0\n",
        "#end your code here\n",
        "\n",
        "print (\"train_x's shape: \" + str(train_x.shape))\n",
        "print (\"test_x's shape: \" + str(test_x.shape))\n",
        "print (\"train_y's shape: \" + str(train_y.shape))\n",
        "print (\"test_y's shape: \" + str(test_y.shape))"
      ]
    },
    {
      "cell_type": "markdown",
      "metadata": {
        "id": "4q-yRZNQQBtY"
      },
      "source": [
        "###3- Build your neural network ###\n",
        "Now, we are going to use the skills in the first module to build our neural network. \n",
        "\n",
        "Excep the input layer, you can use \n",
        "\n",
        "`tf.keras.layers.Dense(20,activation='relu', \n",
        "                            kernel_initializer='glorot_uniform',\n",
        "                            bias_initializer='zeros')`\n",
        "\n",
        "to build the layers. In this example, we have 20 neurons in this layer, use 'relu' as the activation function, initialize our weight randomly using 'glorot_uniform', and our bias is initialized to be 'zeros'. \n",
        "\n",
        "First, we will need an input layer. How many neurons will you need in the input layer? Hint: how many elements does every training input have?\n",
        "\n",
        "Second, we will build several hidden layers. You are free to choose the number of neurons in every hidden layer. \n",
        "\n",
        "Last, we will build the output layer. How many neurons will you need in the output layer? Which activation function is more suitale in this problem? Hint: how many elements does every training output have? What is the range of the training output?\n"
      ]
    },
    {
      "cell_type": "code",
      "execution_count": null,
      "metadata": {
        "colab": {
          "base_uri": "https://localhost:8080/"
        },
        "id": "H71UHvjaxREs",
        "outputId": "6b521be8-5fda-4a87-a915-262e0fcb5412"
      },
      "outputs": [
        {
          "output_type": "stream",
          "name": "stdout",
          "text": [
            "Model: \"sequential\"\n",
            "_________________________________________________________________\n",
            " Layer (type)                Output Shape              Param #   \n",
            "=================================================================\n",
            " dense (Dense)               (None, 5)                 61445     \n",
            "                                                                 \n",
            " dense_1 (Dense)             (None, 15)                90        \n",
            "                                                                 \n",
            " dense_2 (Dense)             (None, 1)                 16        \n",
            "                                                                 \n",
            "=================================================================\n",
            "Total params: 61,551\n",
            "Trainable params: 61,551\n",
            "Non-trainable params: 0\n",
            "_________________________________________________________________\n"
          ]
        }
      ],
      "source": [
        "tf.random.set_seed(1) # we fixed the seed of the random number generator, so every time running this code, we can have the same results.\n",
        "\n",
        "# start your code here\n",
        "cat_model=tf.keras.Sequential([\n",
        "    tf.keras.layers.InputLayer(input_shape=12288), # how many elements are there in every training image?\n",
        "    tf.keras.layers.Dense(5,activation='relu', # in layer 1, we will have 20 neurons and use 'relu' as the activation function\n",
        "                            kernel_initializer='glorot_uniform', # we will randomly choose the initial weight using the 'glorot_uniform' method\n",
        "                            bias_initializer='zeros'), # we will initialize all bias to be zeros.\n",
        "    #please follow the example of layer 1 to add more hidden layers here.\n",
        "    tf.keras.layers.Dense(15,activation='relu',\n",
        "                            kernel_initializer='glorot_uniform', \n",
        "                            bias_initializer='zeros'),\n",
        "\n",
        "    # End adding hidden layers                    \n",
        "    tf.keras.layers.Dense(1,activation='sigmoid', # how many elements are there in every training output\n",
        "                            kernel_initializer='glorot_uniform',\n",
        "                            bias_initializer='zeros'),\n",
        "])\n",
        "# end your code here\n",
        "cat_model.summary()"
      ]
    },
    {
      "cell_type": "markdown",
      "metadata": {
        "id": "nRMApHybXkD8"
      },
      "source": [
        "Now, let's compile the model. When comiling your model, you will need to specify the optimizer, the loss function, and the metrics.\n",
        "\n",
        "For optimizers, the most popular ones are 'Adam' and its derivatives. You can also try 'RMSprop' and 'SGD' to see which one works better for you. You might need adjust the learning rate to acceperate the training process. \n",
        "\n",
        "For loss functions, our problem is a two-class classification problem. The most popular loss function would be 'BinaryCrossentropy'. If this is a multiple-class classification problem, you probably want to try 'CategoricalCrossentropy' or 'SparseCategoricalCrossentropy'. \n",
        "\n",
        "For the metrics, we want to know the accuracy of our model. Therefore, I would recommend 'accuracy'. "
      ]
    },
    {
      "cell_type": "code",
      "execution_count": null,
      "metadata": {
        "id": "R2zh-VWoT7o5"
      },
      "outputs": [],
      "source": [
        "# start your code here\n",
        "cat_model.compile(optimizer=tf.keras.optimizers.Adam(learning_rate=0.001),  # Optimizer. Please change 'None' to some meaningful learning rate which is usually <1\n",
        "    # Loss function to minimize\n",
        "    loss=tf.keras.losses.BinaryCrossentropy(),\n",
        "    # List of metrics to monitor\n",
        "    metrics=['accuracy'],\n",
        "                 )\n",
        "# end your code here"
      ]
    },
    {
      "cell_type": "markdown",
      "metadata": {
        "id": "SGSAcJuTZw2C"
      },
      "source": [
        "It's time to train. \n",
        "\n",
        "We can plot training history. It can help us to adjust the parameters. \n",
        "\n",
        "If the training loss increases, we may want to decrease the `learning_rate`.\n",
        "\n",
        "If the training loss has large vibration, we may want to decrease the `learning_rate`. \n",
        "\n",
        "If the training loss decreases too slowly, we need to increase `learning_rate`.\n",
        "\n",
        "If the training loss decreases at a good speed, but ends up large, we may want to increase the epoch number. "
      ]
    },
    {
      "cell_type": "code",
      "execution_count": null,
      "metadata": {
        "colab": {
          "base_uri": "https://localhost:8080/",
          "height": 1000
        },
        "id": "TYZnpHLPVIRY",
        "outputId": "125b4f1d-acca-4349-8734-f3fe1a4ee22e"
      },
      "outputs": [
        {
          "output_type": "stream",
          "name": "stdout",
          "text": [
            "Epoch 1/100\n",
            "6/6 [==============================] - 1s 45ms/step - loss: 0.7122 - accuracy: 0.6407 - val_loss: 0.6228 - val_accuracy: 0.7143\n",
            "Epoch 2/100\n",
            "6/6 [==============================] - 0s 9ms/step - loss: 0.6756 - accuracy: 0.6407 - val_loss: 0.6170 - val_accuracy: 0.7143\n",
            "Epoch 3/100\n",
            "6/6 [==============================] - 0s 9ms/step - loss: 0.6094 - accuracy: 0.6407 - val_loss: 0.5922 - val_accuracy: 0.7143\n",
            "Epoch 4/100\n",
            "6/6 [==============================] - 0s 10ms/step - loss: 0.5769 - accuracy: 0.6407 - val_loss: 0.6153 - val_accuracy: 0.7143\n",
            "Epoch 5/100\n",
            "6/6 [==============================] - 0s 9ms/step - loss: 0.5660 - accuracy: 0.6407 - val_loss: 0.6093 - val_accuracy: 0.7143\n",
            "Epoch 6/100\n",
            "6/6 [==============================] - 0s 8ms/step - loss: 0.5416 - accuracy: 0.6407 - val_loss: 0.6855 - val_accuracy: 0.7143\n",
            "Epoch 7/100\n",
            "6/6 [==============================] - 0s 9ms/step - loss: 0.5494 - accuracy: 0.6407 - val_loss: 0.6196 - val_accuracy: 0.7143\n",
            "Epoch 8/100\n",
            "6/6 [==============================] - 0s 8ms/step - loss: 0.5452 - accuracy: 0.6407 - val_loss: 0.6387 - val_accuracy: 0.7143\n",
            "Epoch 9/100\n",
            "6/6 [==============================] - 0s 9ms/step - loss: 0.5239 - accuracy: 0.6826 - val_loss: 0.6475 - val_accuracy: 0.5714\n",
            "Epoch 10/100\n",
            "6/6 [==============================] - 0s 10ms/step - loss: 0.5106 - accuracy: 0.7186 - val_loss: 0.6841 - val_accuracy: 0.5952\n",
            "Epoch 11/100\n",
            "6/6 [==============================] - 0s 11ms/step - loss: 0.4994 - accuracy: 0.6826 - val_loss: 0.6228 - val_accuracy: 0.5952\n",
            "Epoch 12/100\n",
            "6/6 [==============================] - 0s 9ms/step - loss: 0.5121 - accuracy: 0.7365 - val_loss: 0.6261 - val_accuracy: 0.5952\n",
            "Epoch 13/100\n",
            "6/6 [==============================] - 0s 9ms/step - loss: 0.5671 - accuracy: 0.6766 - val_loss: 0.6350 - val_accuracy: 0.4286\n",
            "Epoch 14/100\n",
            "6/6 [==============================] - 0s 10ms/step - loss: 0.5374 - accuracy: 0.7365 - val_loss: 0.7186 - val_accuracy: 0.5952\n",
            "Epoch 15/100\n",
            "6/6 [==============================] - 0s 11ms/step - loss: 0.4557 - accuracy: 0.7844 - val_loss: 0.6400 - val_accuracy: 0.5476\n",
            "Epoch 16/100\n",
            "6/6 [==============================] - 0s 11ms/step - loss: 0.4861 - accuracy: 0.7066 - val_loss: 0.6290 - val_accuracy: 0.6190\n",
            "Epoch 17/100\n",
            "6/6 [==============================] - 0s 11ms/step - loss: 0.4941 - accuracy: 0.6946 - val_loss: 0.8449 - val_accuracy: 0.5952\n",
            "Epoch 18/100\n",
            "6/6 [==============================] - 0s 9ms/step - loss: 0.4796 - accuracy: 0.6707 - val_loss: 0.6427 - val_accuracy: 0.5952\n",
            "Epoch 19/100\n",
            "6/6 [==============================] - 0s 10ms/step - loss: 0.4714 - accuracy: 0.7545 - val_loss: 0.6536 - val_accuracy: 0.5952\n",
            "Epoch 20/100\n",
            "6/6 [==============================] - 0s 8ms/step - loss: 0.4973 - accuracy: 0.7844 - val_loss: 0.6215 - val_accuracy: 0.5952\n",
            "Epoch 21/100\n",
            "6/6 [==============================] - 0s 9ms/step - loss: 0.4966 - accuracy: 0.7425 - val_loss: 0.6799 - val_accuracy: 0.5714\n",
            "Epoch 22/100\n",
            "6/6 [==============================] - 0s 9ms/step - loss: 0.4477 - accuracy: 0.8084 - val_loss: 0.6309 - val_accuracy: 0.6429\n",
            "Epoch 23/100\n",
            "6/6 [==============================] - 0s 9ms/step - loss: 0.4370 - accuracy: 0.7665 - val_loss: 0.7181 - val_accuracy: 0.5714\n",
            "Epoch 24/100\n",
            "6/6 [==============================] - 0s 9ms/step - loss: 0.4125 - accuracy: 0.8323 - val_loss: 0.7456 - val_accuracy: 0.5476\n",
            "Epoch 25/100\n",
            "6/6 [==============================] - 0s 9ms/step - loss: 0.4208 - accuracy: 0.7725 - val_loss: 0.6509 - val_accuracy: 0.5952\n",
            "Epoch 26/100\n",
            "6/6 [==============================] - 0s 9ms/step - loss: 0.4226 - accuracy: 0.8503 - val_loss: 0.9677 - val_accuracy: 0.5952\n",
            "Epoch 27/100\n",
            "6/6 [==============================] - 0s 9ms/step - loss: 0.5063 - accuracy: 0.7365 - val_loss: 0.6501 - val_accuracy: 0.5238\n",
            "Epoch 28/100\n",
            "6/6 [==============================] - 0s 14ms/step - loss: 0.4872 - accuracy: 0.7784 - val_loss: 0.8055 - val_accuracy: 0.5476\n",
            "Epoch 29/100\n",
            "6/6 [==============================] - 0s 8ms/step - loss: 0.4537 - accuracy: 0.7126 - val_loss: 0.6554 - val_accuracy: 0.5238\n",
            "Epoch 30/100\n",
            "6/6 [==============================] - 0s 12ms/step - loss: 0.4408 - accuracy: 0.7964 - val_loss: 0.7933 - val_accuracy: 0.5238\n",
            "Epoch 31/100\n",
            "6/6 [==============================] - 0s 9ms/step - loss: 0.3893 - accuracy: 0.8084 - val_loss: 0.8000 - val_accuracy: 0.5238\n",
            "Epoch 32/100\n",
            "6/6 [==============================] - 0s 10ms/step - loss: 0.3791 - accuracy: 0.8204 - val_loss: 0.7840 - val_accuracy: 0.5476\n",
            "Epoch 33/100\n",
            "6/6 [==============================] - 0s 9ms/step - loss: 0.3734 - accuracy: 0.8263 - val_loss: 0.7706 - val_accuracy: 0.5476\n",
            "Epoch 34/100\n",
            "6/6 [==============================] - 0s 11ms/step - loss: 0.3658 - accuracy: 0.8563 - val_loss: 0.7674 - val_accuracy: 0.5476\n",
            "Epoch 35/100\n",
            "6/6 [==============================] - 0s 10ms/step - loss: 0.3579 - accuracy: 0.8563 - val_loss: 0.8270 - val_accuracy: 0.5476\n",
            "Epoch 36/100\n",
            "6/6 [==============================] - 0s 10ms/step - loss: 0.3579 - accuracy: 0.8204 - val_loss: 0.6976 - val_accuracy: 0.5714\n",
            "Epoch 37/100\n",
            "6/6 [==============================] - 0s 9ms/step - loss: 0.3903 - accuracy: 0.8623 - val_loss: 0.8574 - val_accuracy: 0.5714\n",
            "Epoch 38/100\n",
            "6/6 [==============================] - 0s 9ms/step - loss: 0.3451 - accuracy: 0.8503 - val_loss: 0.7211 - val_accuracy: 0.5476\n",
            "Epoch 39/100\n",
            "6/6 [==============================] - 0s 9ms/step - loss: 0.3482 - accuracy: 0.8623 - val_loss: 0.8062 - val_accuracy: 0.5476\n",
            "Epoch 40/100\n",
            "6/6 [==============================] - 0s 9ms/step - loss: 0.3390 - accuracy: 0.8683 - val_loss: 0.7836 - val_accuracy: 0.5476\n",
            "Epoch 41/100\n",
            "6/6 [==============================] - 0s 10ms/step - loss: 0.3275 - accuracy: 0.8743 - val_loss: 0.8349 - val_accuracy: 0.5476\n",
            "Epoch 42/100\n",
            "6/6 [==============================] - 0s 9ms/step - loss: 0.3237 - accuracy: 0.8802 - val_loss: 0.7817 - val_accuracy: 0.5238\n",
            "Epoch 43/100\n",
            "6/6 [==============================] - 0s 9ms/step - loss: 0.3234 - accuracy: 0.8623 - val_loss: 0.7194 - val_accuracy: 0.5476\n",
            "Epoch 44/100\n",
            "6/6 [==============================] - 0s 10ms/step - loss: 0.3516 - accuracy: 0.8802 - val_loss: 0.7197 - val_accuracy: 0.5476\n",
            "Epoch 45/100\n",
            "6/6 [==============================] - 0s 9ms/step - loss: 0.4591 - accuracy: 0.7904 - val_loss: 0.6845 - val_accuracy: 0.5000\n",
            "Epoch 46/100\n",
            "6/6 [==============================] - 0s 10ms/step - loss: 0.3757 - accuracy: 0.7964 - val_loss: 0.7457 - val_accuracy: 0.5714\n",
            "Epoch 47/100\n",
            "6/6 [==============================] - 0s 9ms/step - loss: 0.3376 - accuracy: 0.8922 - val_loss: 1.0000 - val_accuracy: 0.5714\n",
            "Epoch 48/100\n",
            "6/6 [==============================] - 0s 10ms/step - loss: 0.3404 - accuracy: 0.8623 - val_loss: 0.7682 - val_accuracy: 0.5714\n",
            "Epoch 49/100\n",
            "6/6 [==============================] - 0s 9ms/step - loss: 0.3190 - accuracy: 0.8263 - val_loss: 0.7101 - val_accuracy: 0.5952\n",
            "Epoch 50/100\n",
            "6/6 [==============================] - 0s 9ms/step - loss: 0.4172 - accuracy: 0.8263 - val_loss: 0.8319 - val_accuracy: 0.5714\n",
            "Epoch 51/100\n",
            "6/6 [==============================] - 0s 13ms/step - loss: 0.3186 - accuracy: 0.8503 - val_loss: 0.7636 - val_accuracy: 0.5476\n",
            "Epoch 52/100\n",
            "6/6 [==============================] - 0s 9ms/step - loss: 0.3152 - accuracy: 0.8922 - val_loss: 1.1079 - val_accuracy: 0.6190\n",
            "Epoch 53/100\n",
            "6/6 [==============================] - 0s 9ms/step - loss: 0.3142 - accuracy: 0.8683 - val_loss: 0.7992 - val_accuracy: 0.5476\n",
            "Epoch 54/100\n",
            "6/6 [==============================] - 0s 9ms/step - loss: 0.3137 - accuracy: 0.8862 - val_loss: 0.9820 - val_accuracy: 0.5476\n",
            "Epoch 55/100\n",
            "6/6 [==============================] - 0s 11ms/step - loss: 0.2955 - accuracy: 0.8922 - val_loss: 0.8949 - val_accuracy: 0.5238\n",
            "Epoch 56/100\n",
            "6/6 [==============================] - 0s 9ms/step - loss: 0.2894 - accuracy: 0.9162 - val_loss: 1.0267 - val_accuracy: 0.5476\n",
            "Epoch 57/100\n",
            "6/6 [==============================] - 0s 9ms/step - loss: 0.2779 - accuracy: 0.9341 - val_loss: 0.9055 - val_accuracy: 0.5238\n",
            "Epoch 58/100\n",
            "6/6 [==============================] - 0s 15ms/step - loss: 0.2850 - accuracy: 0.9281 - val_loss: 1.1629 - val_accuracy: 0.5476\n",
            "Epoch 59/100\n",
            "6/6 [==============================] - 0s 9ms/step - loss: 0.2995 - accuracy: 0.8922 - val_loss: 0.9253 - val_accuracy: 0.4762\n",
            "Epoch 60/100\n",
            "6/6 [==============================] - 0s 10ms/step - loss: 0.2766 - accuracy: 0.9341 - val_loss: 0.9623 - val_accuracy: 0.5000\n",
            "Epoch 61/100\n",
            "6/6 [==============================] - 0s 9ms/step - loss: 0.2721 - accuracy: 0.9222 - val_loss: 1.0268 - val_accuracy: 0.5476\n",
            "Epoch 62/100\n",
            "6/6 [==============================] - 0s 9ms/step - loss: 0.2661 - accuracy: 0.9281 - val_loss: 1.1024 - val_accuracy: 0.5000\n",
            "Epoch 63/100\n",
            "6/6 [==============================] - 0s 9ms/step - loss: 0.2478 - accuracy: 0.9281 - val_loss: 1.0929 - val_accuracy: 0.4524\n",
            "Epoch 64/100\n",
            "6/6 [==============================] - 0s 9ms/step - loss: 0.2456 - accuracy: 0.9281 - val_loss: 1.0462 - val_accuracy: 0.4524\n",
            "Epoch 65/100\n",
            "6/6 [==============================] - 0s 9ms/step - loss: 0.2274 - accuracy: 0.9401 - val_loss: 1.0835 - val_accuracy: 0.5238\n",
            "Epoch 66/100\n",
            "6/6 [==============================] - 0s 9ms/step - loss: 0.2281 - accuracy: 0.9281 - val_loss: 1.1370 - val_accuracy: 0.4762\n",
            "Epoch 67/100\n",
            "6/6 [==============================] - 0s 9ms/step - loss: 0.2167 - accuracy: 0.9222 - val_loss: 1.1700 - val_accuracy: 0.5000\n",
            "Epoch 68/100\n",
            "6/6 [==============================] - 0s 11ms/step - loss: 0.3677 - accuracy: 0.7964 - val_loss: 1.0542 - val_accuracy: 0.5714\n",
            "Epoch 69/100\n",
            "6/6 [==============================] - 0s 9ms/step - loss: 0.2783 - accuracy: 0.9222 - val_loss: 0.9175 - val_accuracy: 0.5714\n",
            "Epoch 70/100\n",
            "6/6 [==============================] - 0s 9ms/step - loss: 0.2776 - accuracy: 0.8922 - val_loss: 0.7986 - val_accuracy: 0.5714\n",
            "Epoch 71/100\n",
            "6/6 [==============================] - 0s 11ms/step - loss: 0.4011 - accuracy: 0.8263 - val_loss: 1.0647 - val_accuracy: 0.5238\n",
            "Epoch 72/100\n",
            "6/6 [==============================] - 0s 9ms/step - loss: 0.2941 - accuracy: 0.8623 - val_loss: 0.7873 - val_accuracy: 0.5238\n",
            "Epoch 73/100\n",
            "6/6 [==============================] - 0s 10ms/step - loss: 0.3137 - accuracy: 0.8922 - val_loss: 1.3672 - val_accuracy: 0.5476\n",
            "Epoch 74/100\n",
            "6/6 [==============================] - 0s 9ms/step - loss: 0.2772 - accuracy: 0.8922 - val_loss: 0.9888 - val_accuracy: 0.5238\n",
            "Epoch 75/100\n",
            "6/6 [==============================] - 0s 9ms/step - loss: 0.2574 - accuracy: 0.9162 - val_loss: 1.1453 - val_accuracy: 0.5238\n",
            "Epoch 76/100\n",
            "6/6 [==============================] - 0s 10ms/step - loss: 0.2462 - accuracy: 0.9341 - val_loss: 1.2115 - val_accuracy: 0.5238\n",
            "Epoch 77/100\n",
            "6/6 [==============================] - 0s 9ms/step - loss: 0.2390 - accuracy: 0.9341 - val_loss: 1.4535 - val_accuracy: 0.5714\n",
            "Epoch 78/100\n",
            "6/6 [==============================] - 0s 13ms/step - loss: 0.2999 - accuracy: 0.8623 - val_loss: 0.7915 - val_accuracy: 0.5238\n",
            "Epoch 79/100\n",
            "6/6 [==============================] - 0s 9ms/step - loss: 0.2967 - accuracy: 0.8862 - val_loss: 0.9770 - val_accuracy: 0.5000\n",
            "Epoch 80/100\n",
            "6/6 [==============================] - 0s 10ms/step - loss: 0.3690 - accuracy: 0.8263 - val_loss: 0.9015 - val_accuracy: 0.5476\n",
            "Epoch 81/100\n",
            "6/6 [==============================] - 0s 10ms/step - loss: 0.2793 - accuracy: 0.8683 - val_loss: 0.8854 - val_accuracy: 0.5476\n",
            "Epoch 82/100\n",
            "6/6 [==============================] - 0s 9ms/step - loss: 0.2581 - accuracy: 0.9102 - val_loss: 1.2008 - val_accuracy: 0.5000\n",
            "Epoch 83/100\n",
            "6/6 [==============================] - 0s 9ms/step - loss: 0.2010 - accuracy: 0.9042 - val_loss: 1.4174 - val_accuracy: 0.4762\n",
            "Epoch 84/100\n",
            "6/6 [==============================] - 0s 10ms/step - loss: 0.2284 - accuracy: 0.8982 - val_loss: 1.0536 - val_accuracy: 0.4762\n",
            "Epoch 85/100\n",
            "6/6 [==============================] - 0s 11ms/step - loss: 0.2688 - accuracy: 0.8862 - val_loss: 1.1025 - val_accuracy: 0.5000\n",
            "Epoch 86/100\n",
            "6/6 [==============================] - 0s 10ms/step - loss: 0.2241 - accuracy: 0.8982 - val_loss: 1.2391 - val_accuracy: 0.4762\n",
            "Epoch 87/100\n",
            "6/6 [==============================] - 0s 10ms/step - loss: 0.1991 - accuracy: 0.8982 - val_loss: 1.5429 - val_accuracy: 0.4524\n",
            "Epoch 88/100\n",
            "6/6 [==============================] - 0s 9ms/step - loss: 0.1699 - accuracy: 0.9341 - val_loss: 1.5467 - val_accuracy: 0.4524\n",
            "Epoch 89/100\n",
            "6/6 [==============================] - 0s 11ms/step - loss: 0.1587 - accuracy: 0.9341 - val_loss: 1.3500 - val_accuracy: 0.4524\n",
            "Epoch 90/100\n",
            "6/6 [==============================] - 0s 9ms/step - loss: 0.1650 - accuracy: 0.9341 - val_loss: 1.6491 - val_accuracy: 0.5476\n",
            "Epoch 91/100\n",
            "6/6 [==============================] - 0s 9ms/step - loss: 0.1877 - accuracy: 0.9042 - val_loss: 1.3806 - val_accuracy: 0.4524\n",
            "Epoch 92/100\n",
            "6/6 [==============================] - 0s 10ms/step - loss: 0.2125 - accuracy: 0.8862 - val_loss: 1.0677 - val_accuracy: 0.5476\n",
            "Epoch 93/100\n",
            "6/6 [==============================] - 0s 10ms/step - loss: 0.2097 - accuracy: 0.9042 - val_loss: 1.5450 - val_accuracy: 0.5238\n",
            "Epoch 94/100\n",
            "6/6 [==============================] - 0s 9ms/step - loss: 0.1850 - accuracy: 0.9222 - val_loss: 1.7150 - val_accuracy: 0.4762\n",
            "Epoch 95/100\n",
            "6/6 [==============================] - 0s 9ms/step - loss: 0.1486 - accuracy: 0.9341 - val_loss: 1.6258 - val_accuracy: 0.4762\n",
            "Epoch 96/100\n",
            "6/6 [==============================] - 0s 10ms/step - loss: 0.1551 - accuracy: 0.9401 - val_loss: 1.5158 - val_accuracy: 0.5238\n",
            "Epoch 97/100\n",
            "6/6 [==============================] - 0s 9ms/step - loss: 0.1518 - accuracy: 0.9341 - val_loss: 1.4946 - val_accuracy: 0.4286\n",
            "Epoch 98/100\n",
            "6/6 [==============================] - 0s 10ms/step - loss: 0.1261 - accuracy: 0.9401 - val_loss: 2.0956 - val_accuracy: 0.5714\n",
            "Epoch 99/100\n",
            "6/6 [==============================] - 0s 9ms/step - loss: 0.2542 - accuracy: 0.8862 - val_loss: 1.4069 - val_accuracy: 0.4286\n",
            "Epoch 100/100\n",
            "6/6 [==============================] - 0s 9ms/step - loss: 0.2311 - accuracy: 0.8982 - val_loss: 1.2885 - val_accuracy: 0.5000\n"
          ]
        },
        {
          "output_type": "execute_result",
          "data": {
            "text/plain": [
              "<matplotlib.legend.Legend at 0x7f05c9508ed0>"
            ]
          },
          "metadata": {},
          "execution_count": 12
        },
        {
          "output_type": "display_data",
          "data": {
            "image/png": "[encoded data removed]",
            "text/plain": [
              "<Figure size 360x288 with 1 Axes>"
            ]
          },
          "metadata": {
            "needs_background": "light"
          }
        }
      ],
      "source": [
        "# start your code here\n",
        "history = cat_model.fit(\n",
        "    train_x, # input data\n",
        "    train_y, # real output data\n",
        "    validation_split=0.2, # this number is usually betwwen 0 and 0.3. It is the portion used as validation data, \n",
        "    epochs=100, # how many iterations do you want to train your model? Your data will be reused to train the model for the number of epochs. I trained 5 min for this model\n",
        ")\n",
        "# end your code here. \n",
        "plt.figure()\n",
        "plt.plot(history.history['loss'])\n",
        "plt.plot(history.history['val_loss'])\n",
        "plt.legend(['loss','val_loss'])"
      ]
    },
    {
      "cell_type": "markdown",
      "metadata": {
        "id": "-yLMfXSWfKVA"
      },
      "source": [
        "### 4. test ###\n",
        "Let us test their performance using our test dataset. The test dataset is never used to train the models, and reflects the acutual performance of the model when it is used in the general images.\n",
        "\n",
        "To evaluate the model , we can use\n",
        "`cat_model.evaluate(test_x,test_y)`. "
      ]
    },
    {
      "cell_type": "code",
      "execution_count": null,
      "metadata": {
        "colab": {
          "base_uri": "https://localhost:8080/"
        },
        "id": "4pyTS3HmHXFQ",
        "outputId": "0d12b1de-dbfe-4125-f615-dbeaacccedbc"
      },
      "outputs": [
        {
          "output_type": "stream",
          "name": "stdout",
          "text": [
            "2/2 [==============================] - 0s 8ms/step - loss: 0.7855 - accuracy: 0.7800\n"
          ]
        },
        {
          "output_type": "execute_result",
          "data": {
            "text/plain": [
              "[0.7855323553085327, 0.7799999713897705]"
            ]
          },
          "metadata": {},
          "execution_count": 13
        }
      ],
      "source": [
        "cat_model.evaluate(test_x,test_y)"
      ]
    },
    {
      "cell_type": "markdown",
      "metadata": {
        "id": "crWckG9I807Q"
      },
      "source": [
        "The expected accuracy is higher than 0.7. If the accuracy is lower than 0.7, you may want to increase the epoch number, adjust the learning rate, and the regularizer weight, to achieve the goal. \n",
        "\n",
        "For your reference, I trained the model for 5 min to achieve that goal. \n",
        "\n",
        "If you have achieved the 0.7 goal, I would like to challenge you for the 0.8 accuracy for the test set. "
      ]
    },
    {
      "cell_type": "markdown",
      "metadata": {
        "id": "U61bqEXKOFq1"
      },
      "source": [
        "### 5- Adding Regularization ###\n",
        "After enough training, you probably notice that while the training loss is very small, the validation loss is quite large. This is what we called **low bias high vairance** problem. We have several ways to deal with it, \n",
        "1. L1/L2 regularization, \n",
        "2. drop out, and \n",
        "3. early stop. \n",
        "\n",
        "I would recommend you try the regularization first, because it's easy to use and usually works. \n",
        "\n",
        "To add regularization to the network, we only need to specify this option in the 'Dense' layer as follows.\n",
        "\n",
        "`tf.keras.layers.Dense(20,activation='relu', \n",
        "                          kernel_initializer='glorot_uniform',\n",
        "                          bias_initializer='zeros', \n",
        "                          kernel_regularizer=tf.keras.regularizers.L2(0.01))`\n",
        "\n",
        "The parameter **kernel_regularizer=tf.keras.regularizers.L2(0.01)** says that we want an 'L2' regularizer with weight 0.01. A higher weight usually can reduce the validation loss more. But if the weight is too large, the training loss might redecus very slowly."
      ]
    },
    {
      "cell_type": "code",
      "execution_count": null,
      "metadata": {
        "colab": {
          "base_uri": "https://localhost:8080/"
        },
        "id": "a2yXbuObOcKl",
        "outputId": "6ae584ee-c59e-43b1-e902-7205414b464f"
      },
      "outputs": [
        {
          "output_type": "stream",
          "name": "stdout",
          "text": [
            "Model: \"sequential_1\"\n",
            "_________________________________________________________________\n",
            " Layer (type)                Output Shape              Param #   \n",
            "=================================================================\n",
            " dense_3 (Dense)             (None, 10)                122890    \n",
            "                                                                 \n",
            " dense_4 (Dense)             (None, 20)                220       \n",
            "                                                                 \n",
            " dense_5 (Dense)             (None, 1)                 21        \n",
            "                                                                 \n",
            "=================================================================\n",
            "Total params: 123,131\n",
            "Trainable params: 123,131\n",
            "Non-trainable params: 0\n",
            "_________________________________________________________________\n"
          ]
        }
      ],
      "source": [
        "tf.random.set_seed(1)\n",
        "weight = 0.03\n",
        "cat_model_regu=tf.keras.Sequential([\n",
        "    tf.keras.layers.InputLayer(input_shape=(12288,)),\n",
        "    tf.keras.layers.Dense(10,activation='relu', # in layer 1, we will have 20 neurons and use 'relu' #15 #10\n",
        "                          kernel_initializer='glorot_uniform',# we will randomly choose the initial weight using the 'glorot_uniform' method as the activation function\n",
        "                          bias_initializer='zeros', # we will initialize all bias to be zeros.\n",
        "                          kernel_regularizer=tf.keras.regularizers.L2(weight)), # L2-regularization can be added here\n",
        "    #please feel free to add more hidden layers with regularizer\n",
        "    tf.keras.layers.Dense(20,activation='relu', #10 # 20 -> 0.82\n",
        "                          kernel_initializer='glorot_uniform',\n",
        "                          bias_initializer='zeros',\n",
        "                          kernel_regularizer=tf.keras.regularizers.L2(weight)),\n",
        "\n",
        "    \n",
        "    # End adding hidden layers \n",
        "    tf.keras.layers.Dense(1,activation='sigmoid', \n",
        "                            kernel_initializer='glorot_uniform',\n",
        "                            bias_initializer='zeros', \n",
        "                            kernel_regularizer=tf.keras.regularizers.L2(weight)),\n",
        "])\n",
        "\n",
        "\n",
        "cat_model_regu.summary()"
      ]
    },
    {
      "cell_type": "markdown",
      "metadata": {
        "id": "wFRAcU0oPJa8"
      },
      "source": [
        "Now, you can compile and train the regularized neural network as before."
      ]
    },
    {
      "cell_type": "code",
      "execution_count": null,
      "metadata": {
        "id": "WBDncfdhPMiL"
      },
      "outputs": [],
      "source": [
        "# start your code here\n",
        "cat_model_regu.compile(optimizer=tf.keras.optimizers.Adam(learning_rate=0.001),  # Optimizer please change \"None\" to some meaningful number here\n",
        "    # Loss function to minimize\n",
        "    loss=tf.keras.losses.BinaryCrossentropy(),\n",
        "    # List of metrics to monitor\n",
        "    metrics=['accuracy'],\n",
        "                 )\n",
        "# end your code here. "
      ]
    },
    {
      "cell_type": "code",
      "execution_count": null,
      "metadata": {
        "colab": {
          "base_uri": "https://localhost:8080/",
          "height": 1000
        },
        "id": "7ykpmUmDPWTl",
        "outputId": "a35b192d-3562-449e-aac2-7d7bb19ceb1a"
      },
      "outputs": [
        {
          "output_type": "stream",
          "name": "stdout",
          "text": [
            "Epoch 1/150\n",
            "6/6 [==============================] - 1s 40ms/step - loss: 1.7396 - accuracy: 0.6228 - val_loss: 1.5487 - val_accuracy: 0.7143\n",
            "Epoch 2/150\n",
            "6/6 [==============================] - 0s 10ms/step - loss: 1.5456 - accuracy: 0.6407 - val_loss: 1.4432 - val_accuracy: 0.7143\n",
            "Epoch 3/150\n",
            "6/6 [==============================] - 0s 11ms/step - loss: 1.4494 - accuracy: 0.6407 - val_loss: 1.3715 - val_accuracy: 0.6905\n",
            "Epoch 4/150\n",
            "6/6 [==============================] - 0s 10ms/step - loss: 1.3776 - accuracy: 0.6407 - val_loss: 1.3089 - val_accuracy: 0.6905\n",
            "Epoch 5/150\n",
            "6/6 [==============================] - 0s 9ms/step - loss: 1.3153 - accuracy: 0.6407 - val_loss: 1.2717 - val_accuracy: 0.7143\n",
            "Epoch 6/150\n",
            "6/6 [==============================] - 0s 10ms/step - loss: 1.2481 - accuracy: 0.6467 - val_loss: 1.2054 - val_accuracy: 0.7143\n",
            "Epoch 7/150\n",
            "6/6 [==============================] - 0s 10ms/step - loss: 1.1919 - accuracy: 0.6527 - val_loss: 1.2569 - val_accuracy: 0.5000\n",
            "Epoch 8/150\n",
            "6/6 [==============================] - 0s 10ms/step - loss: 1.2057 - accuracy: 0.6048 - val_loss: 1.1347 - val_accuracy: 0.7143\n",
            "Epoch 9/150\n",
            "6/6 [==============================] - 0s 9ms/step - loss: 1.1621 - accuracy: 0.6407 - val_loss: 1.1069 - val_accuracy: 0.7143\n",
            "Epoch 10/150\n",
            "6/6 [==============================] - 0s 9ms/step - loss: 1.1312 - accuracy: 0.6407 - val_loss: 1.0793 - val_accuracy: 0.7143\n",
            "Epoch 11/150\n",
            "6/6 [==============================] - 0s 10ms/step - loss: 1.0850 - accuracy: 0.6407 - val_loss: 1.0559 - val_accuracy: 0.7143\n",
            "Epoch 12/150\n",
            "6/6 [==============================] - 0s 9ms/step - loss: 1.0556 - accuracy: 0.6407 - val_loss: 1.0542 - val_accuracy: 0.7143\n",
            "Epoch 13/150\n",
            "6/6 [==============================] - 0s 10ms/step - loss: 1.0312 - accuracy: 0.6467 - val_loss: 1.0015 - val_accuracy: 0.6905\n",
            "Epoch 14/150\n",
            "6/6 [==============================] - 0s 10ms/step - loss: 0.9927 - accuracy: 0.6527 - val_loss: 0.9852 - val_accuracy: 0.7143\n",
            "Epoch 15/150\n",
            "6/6 [==============================] - 0s 10ms/step - loss: 0.9488 - accuracy: 0.6527 - val_loss: 0.9725 - val_accuracy: 0.6905\n",
            "Epoch 16/150\n",
            "6/6 [==============================] - 0s 13ms/step - loss: 0.9397 - accuracy: 0.6347 - val_loss: 0.9604 - val_accuracy: 0.6905\n",
            "Epoch 17/150\n",
            "6/6 [==============================] - 0s 10ms/step - loss: 0.9230 - accuracy: 0.6407 - val_loss: 0.9501 - val_accuracy: 0.6190\n",
            "Epoch 18/150\n",
            "6/6 [==============================] - 0s 11ms/step - loss: 0.8754 - accuracy: 0.6647 - val_loss: 0.9359 - val_accuracy: 0.6905\n",
            "Epoch 19/150\n",
            "6/6 [==============================] - 0s 11ms/step - loss: 0.8603 - accuracy: 0.6766 - val_loss: 0.9576 - val_accuracy: 0.5714\n",
            "Epoch 20/150\n",
            "6/6 [==============================] - 0s 11ms/step - loss: 0.8543 - accuracy: 0.7545 - val_loss: 0.9459 - val_accuracy: 0.6190\n",
            "Epoch 21/150\n",
            "6/6 [==============================] - 0s 11ms/step - loss: 0.8324 - accuracy: 0.6707 - val_loss: 0.9504 - val_accuracy: 0.6190\n",
            "Epoch 22/150\n",
            "6/6 [==============================] - 0s 10ms/step - loss: 0.8279 - accuracy: 0.7066 - val_loss: 0.9273 - val_accuracy: 0.5714\n",
            "Epoch 23/150\n",
            "6/6 [==============================] - 0s 11ms/step - loss: 0.8220 - accuracy: 0.7126 - val_loss: 0.9535 - val_accuracy: 0.5238\n",
            "Epoch 24/150\n",
            "6/6 [==============================] - 0s 10ms/step - loss: 0.8245 - accuracy: 0.7305 - val_loss: 1.0275 - val_accuracy: 0.6429\n",
            "Epoch 25/150\n",
            "6/6 [==============================] - 0s 9ms/step - loss: 0.8199 - accuracy: 0.7425 - val_loss: 1.1081 - val_accuracy: 0.4762\n",
            "Epoch 26/150\n",
            "6/6 [==============================] - 0s 13ms/step - loss: 0.9116 - accuracy: 0.6766 - val_loss: 1.0282 - val_accuracy: 0.6429\n",
            "Epoch 27/150\n",
            "6/6 [==============================] - 0s 10ms/step - loss: 0.8180 - accuracy: 0.6766 - val_loss: 0.9131 - val_accuracy: 0.6667\n",
            "Epoch 28/150\n",
            "6/6 [==============================] - 0s 11ms/step - loss: 0.8227 - accuracy: 0.6407 - val_loss: 0.9210 - val_accuracy: 0.6905\n",
            "Epoch 29/150\n",
            "6/6 [==============================] - 0s 10ms/step - loss: 0.7679 - accuracy: 0.7605 - val_loss: 0.9496 - val_accuracy: 0.6190\n",
            "Epoch 30/150\n",
            "6/6 [==============================] - 0s 10ms/step - loss: 0.8050 - accuracy: 0.6527 - val_loss: 1.0792 - val_accuracy: 0.4762\n",
            "Epoch 31/150\n",
            "6/6 [==============================] - 0s 16ms/step - loss: 0.9630 - accuracy: 0.6048 - val_loss: 1.0090 - val_accuracy: 0.6905\n",
            "Epoch 32/150\n",
            "6/6 [==============================] - 0s 10ms/step - loss: 0.8689 - accuracy: 0.6826 - val_loss: 1.0061 - val_accuracy: 0.6667\n",
            "Epoch 33/150\n",
            "6/6 [==============================] - 0s 10ms/step - loss: 0.8980 - accuracy: 0.6886 - val_loss: 1.0697 - val_accuracy: 0.5476\n",
            "Epoch 34/150\n",
            "6/6 [==============================] - 0s 11ms/step - loss: 0.7454 - accuracy: 0.7725 - val_loss: 0.9546 - val_accuracy: 0.5714\n",
            "Epoch 35/150\n",
            "6/6 [==============================] - 0s 11ms/step - loss: 0.7447 - accuracy: 0.7725 - val_loss: 0.9921 - val_accuracy: 0.6667\n",
            "Epoch 36/150\n",
            "6/6 [==============================] - 0s 10ms/step - loss: 0.7260 - accuracy: 0.7605 - val_loss: 0.9747 - val_accuracy: 0.5000\n",
            "Epoch 37/150\n",
            "6/6 [==============================] - 0s 10ms/step - loss: 0.7182 - accuracy: 0.7964 - val_loss: 0.9978 - val_accuracy: 0.6190\n",
            "Epoch 38/150\n",
            "6/6 [==============================] - 0s 11ms/step - loss: 0.6810 - accuracy: 0.8263 - val_loss: 1.0104 - val_accuracy: 0.6429\n",
            "Epoch 39/150\n",
            "6/6 [==============================] - 0s 10ms/step - loss: 0.7283 - accuracy: 0.7365 - val_loss: 0.9802 - val_accuracy: 0.5238\n",
            "Epoch 40/150\n",
            "6/6 [==============================] - 0s 13ms/step - loss: 0.7251 - accuracy: 0.7545 - val_loss: 1.0550 - val_accuracy: 0.5000\n",
            "Epoch 41/150\n",
            "6/6 [==============================] - 0s 11ms/step - loss: 0.7246 - accuracy: 0.7665 - val_loss: 1.0227 - val_accuracy: 0.5476\n",
            "Epoch 42/150\n",
            "6/6 [==============================] - 0s 10ms/step - loss: 0.7317 - accuracy: 0.7605 - val_loss: 0.9370 - val_accuracy: 0.6667\n",
            "Epoch 43/150\n",
            "6/6 [==============================] - 0s 11ms/step - loss: 0.6679 - accuracy: 0.8204 - val_loss: 0.9467 - val_accuracy: 0.5714\n",
            "Epoch 44/150\n",
            "6/6 [==============================] - 0s 10ms/step - loss: 0.6666 - accuracy: 0.8443 - val_loss: 0.9910 - val_accuracy: 0.5476\n",
            "Epoch 45/150\n",
            "6/6 [==============================] - 0s 10ms/step - loss: 0.7093 - accuracy: 0.8204 - val_loss: 1.0141 - val_accuracy: 0.6905\n",
            "Epoch 46/150\n",
            "6/6 [==============================] - 0s 12ms/step - loss: 0.6512 - accuracy: 0.8323 - val_loss: 1.0306 - val_accuracy: 0.5238\n",
            "Epoch 47/150\n",
            "6/6 [==============================] - 0s 12ms/step - loss: 0.6955 - accuracy: 0.7665 - val_loss: 0.9872 - val_accuracy: 0.5476\n",
            "Epoch 48/150\n",
            "6/6 [==============================] - 0s 10ms/step - loss: 0.6497 - accuracy: 0.8323 - val_loss: 0.9453 - val_accuracy: 0.6190\n",
            "Epoch 49/150\n",
            "6/6 [==============================] - 0s 11ms/step - loss: 0.6225 - accuracy: 0.8383 - val_loss: 0.9528 - val_accuracy: 0.5238\n",
            "Epoch 50/150\n",
            "6/6 [==============================] - 0s 11ms/step - loss: 0.6061 - accuracy: 0.8922 - val_loss: 1.0013 - val_accuracy: 0.6667\n",
            "Epoch 51/150\n",
            "6/6 [==============================] - 0s 10ms/step - loss: 0.6533 - accuracy: 0.7904 - val_loss: 0.9497 - val_accuracy: 0.5714\n",
            "Epoch 52/150\n",
            "6/6 [==============================] - 0s 11ms/step - loss: 0.6942 - accuracy: 0.7425 - val_loss: 1.1428 - val_accuracy: 0.5238\n",
            "Epoch 53/150\n",
            "6/6 [==============================] - 0s 13ms/step - loss: 0.6325 - accuracy: 0.8204 - val_loss: 0.9675 - val_accuracy: 0.4762\n",
            "Epoch 54/150\n",
            "6/6 [==============================] - 0s 10ms/step - loss: 0.6292 - accuracy: 0.8623 - val_loss: 1.0035 - val_accuracy: 0.6190\n",
            "Epoch 55/150\n",
            "6/6 [==============================] - 0s 10ms/step - loss: 0.5970 - accuracy: 0.8563 - val_loss: 1.0002 - val_accuracy: 0.5000\n",
            "Epoch 56/150\n",
            "6/6 [==============================] - 0s 13ms/step - loss: 0.5587 - accuracy: 0.9102 - val_loss: 1.0127 - val_accuracy: 0.4762\n",
            "Epoch 57/150\n",
            "6/6 [==============================] - 0s 13ms/step - loss: 0.5505 - accuracy: 0.8922 - val_loss: 1.0124 - val_accuracy: 0.5476\n",
            "Epoch 58/150\n",
            "6/6 [==============================] - 0s 11ms/step - loss: 0.5312 - accuracy: 0.9042 - val_loss: 0.9891 - val_accuracy: 0.5952\n",
            "Epoch 59/150\n",
            "6/6 [==============================] - 0s 10ms/step - loss: 0.5527 - accuracy: 0.8563 - val_loss: 1.0223 - val_accuracy: 0.6667\n",
            "Epoch 60/150\n",
            "6/6 [==============================] - 0s 10ms/step - loss: 0.7253 - accuracy: 0.7066 - val_loss: 1.0035 - val_accuracy: 0.4524\n",
            "Epoch 61/150\n",
            "6/6 [==============================] - 0s 11ms/step - loss: 0.6498 - accuracy: 0.7725 - val_loss: 0.9885 - val_accuracy: 0.4524\n",
            "Epoch 62/150\n",
            "6/6 [==============================] - 0s 10ms/step - loss: 0.6173 - accuracy: 0.8383 - val_loss: 0.9855 - val_accuracy: 0.6190\n",
            "Epoch 63/150\n",
            "6/6 [==============================] - 0s 10ms/step - loss: 0.5748 - accuracy: 0.8683 - val_loss: 0.9834 - val_accuracy: 0.6667\n",
            "Epoch 64/150\n",
            "6/6 [==============================] - 0s 9ms/step - loss: 0.5843 - accuracy: 0.8503 - val_loss: 0.9499 - val_accuracy: 0.5476\n",
            "Epoch 65/150\n",
            "6/6 [==============================] - 0s 13ms/step - loss: 0.5340 - accuracy: 0.8922 - val_loss: 1.0049 - val_accuracy: 0.5000\n",
            "Epoch 66/150\n",
            "6/6 [==============================] - 0s 10ms/step - loss: 0.5204 - accuracy: 0.8982 - val_loss: 0.9774 - val_accuracy: 0.5238\n",
            "Epoch 67/150\n",
            "6/6 [==============================] - 0s 10ms/step - loss: 0.5110 - accuracy: 0.9042 - val_loss: 1.1575 - val_accuracy: 0.5000\n",
            "Epoch 68/150\n",
            "6/6 [==============================] - 0s 11ms/step - loss: 0.5776 - accuracy: 0.8024 - val_loss: 1.0124 - val_accuracy: 0.6429\n",
            "Epoch 69/150\n",
            "6/6 [==============================] - 0s 13ms/step - loss: 0.5067 - accuracy: 0.8982 - val_loss: 0.9951 - val_accuracy: 0.6429\n",
            "Epoch 70/150\n",
            "6/6 [==============================] - 0s 14ms/step - loss: 0.4900 - accuracy: 0.9042 - val_loss: 1.1289 - val_accuracy: 0.5000\n",
            "Epoch 71/150\n",
            "6/6 [==============================] - 0s 9ms/step - loss: 0.5191 - accuracy: 0.8922 - val_loss: 0.9848 - val_accuracy: 0.5238\n",
            "Epoch 72/150\n",
            "6/6 [==============================] - 0s 10ms/step - loss: 0.5149 - accuracy: 0.9162 - val_loss: 1.0220 - val_accuracy: 0.4762\n",
            "Epoch 73/150\n",
            "6/6 [==============================] - 0s 10ms/step - loss: 0.5837 - accuracy: 0.8263 - val_loss: 1.1786 - val_accuracy: 0.6905\n",
            "Epoch 74/150\n",
            "6/6 [==============================] - 0s 10ms/step - loss: 0.6653 - accuracy: 0.7844 - val_loss: 1.0548 - val_accuracy: 0.6429\n",
            "Epoch 75/150\n",
            "6/6 [==============================] - 0s 11ms/step - loss: 0.5168 - accuracy: 0.8922 - val_loss: 1.0353 - val_accuracy: 0.6190\n",
            "Epoch 76/150\n",
            "6/6 [==============================] - 0s 13ms/step - loss: 0.5114 - accuracy: 0.8862 - val_loss: 0.9913 - val_accuracy: 0.5238\n",
            "Epoch 77/150\n",
            "6/6 [==============================] - 0s 11ms/step - loss: 0.4659 - accuracy: 0.9341 - val_loss: 1.0055 - val_accuracy: 0.6190\n",
            "Epoch 78/150\n",
            "6/6 [==============================] - 0s 10ms/step - loss: 0.5200 - accuracy: 0.8862 - val_loss: 0.9763 - val_accuracy: 0.5714\n",
            "Epoch 79/150\n",
            "6/6 [==============================] - 0s 10ms/step - loss: 0.4568 - accuracy: 0.9521 - val_loss: 1.1760 - val_accuracy: 0.4762\n",
            "Epoch 80/150\n",
            "6/6 [==============================] - 0s 10ms/step - loss: 0.5381 - accuracy: 0.8743 - val_loss: 1.0476 - val_accuracy: 0.4762\n",
            "Epoch 81/150\n",
            "6/6 [==============================] - 0s 11ms/step - loss: 0.5238 - accuracy: 0.8683 - val_loss: 1.0280 - val_accuracy: 0.5238\n",
            "Epoch 82/150\n",
            "6/6 [==============================] - 0s 10ms/step - loss: 0.4560 - accuracy: 0.9461 - val_loss: 1.0484 - val_accuracy: 0.4762\n",
            "Epoch 83/150\n",
            "6/6 [==============================] - 0s 10ms/step - loss: 0.4576 - accuracy: 0.9401 - val_loss: 1.0912 - val_accuracy: 0.4286\n",
            "Epoch 84/150\n",
            "6/6 [==============================] - 0s 11ms/step - loss: 0.4691 - accuracy: 0.9222 - val_loss: 1.0413 - val_accuracy: 0.4762\n",
            "Epoch 85/150\n",
            "6/6 [==============================] - 0s 12ms/step - loss: 0.4502 - accuracy: 0.9641 - val_loss: 1.0338 - val_accuracy: 0.4762\n",
            "Epoch 86/150\n",
            "6/6 [==============================] - 0s 11ms/step - loss: 0.4454 - accuracy: 0.9401 - val_loss: 0.9928 - val_accuracy: 0.5238\n",
            "Epoch 87/150\n",
            "6/6 [==============================] - 0s 10ms/step - loss: 0.4507 - accuracy: 0.9461 - val_loss: 0.9833 - val_accuracy: 0.5238\n",
            "Epoch 88/150\n",
            "6/6 [==============================] - 0s 11ms/step - loss: 0.4357 - accuracy: 0.9581 - val_loss: 1.0647 - val_accuracy: 0.6429\n",
            "Epoch 89/150\n",
            "6/6 [==============================] - 0s 10ms/step - loss: 0.4668 - accuracy: 0.8922 - val_loss: 1.0519 - val_accuracy: 0.4762\n",
            "Epoch 90/150\n",
            "6/6 [==============================] - 0s 10ms/step - loss: 0.4360 - accuracy: 0.9162 - val_loss: 1.1034 - val_accuracy: 0.4286\n",
            "Epoch 91/150\n",
            "6/6 [==============================] - 0s 13ms/step - loss: 0.4554 - accuracy: 0.9162 - val_loss: 1.1198 - val_accuracy: 0.4524\n",
            "Epoch 92/150\n",
            "6/6 [==============================] - 0s 11ms/step - loss: 0.4676 - accuracy: 0.9162 - val_loss: 1.1478 - val_accuracy: 0.4524\n",
            "Epoch 93/150\n",
            "6/6 [==============================] - 0s 11ms/step - loss: 0.4340 - accuracy: 0.9401 - val_loss: 1.0660 - val_accuracy: 0.5000\n",
            "Epoch 94/150\n",
            "6/6 [==============================] - 0s 10ms/step - loss: 0.4510 - accuracy: 0.9341 - val_loss: 1.1812 - val_accuracy: 0.4762\n",
            "Epoch 95/150\n",
            "6/6 [==============================] - 0s 10ms/step - loss: 0.4961 - accuracy: 0.8802 - val_loss: 1.0084 - val_accuracy: 0.4524\n",
            "Epoch 96/150\n",
            "6/6 [==============================] - 0s 10ms/step - loss: 0.4490 - accuracy: 0.9222 - val_loss: 1.0175 - val_accuracy: 0.4762\n",
            "Epoch 97/150\n",
            "6/6 [==============================] - 0s 10ms/step - loss: 0.4173 - accuracy: 0.9641 - val_loss: 1.0619 - val_accuracy: 0.6429\n",
            "Epoch 98/150\n",
            "6/6 [==============================] - 0s 11ms/step - loss: 0.4401 - accuracy: 0.9401 - val_loss: 1.2323 - val_accuracy: 0.6905\n",
            "Epoch 99/150\n",
            "6/6 [==============================] - 0s 11ms/step - loss: 0.5340 - accuracy: 0.8323 - val_loss: 1.1137 - val_accuracy: 0.5238\n",
            "Epoch 100/150\n",
            "6/6 [==============================] - 0s 11ms/step - loss: 0.5392 - accuracy: 0.8383 - val_loss: 1.2213 - val_accuracy: 0.4286\n",
            "Epoch 101/150\n",
            "6/6 [==============================] - 0s 10ms/step - loss: 0.4660 - accuracy: 0.8922 - val_loss: 1.0901 - val_accuracy: 0.5000\n",
            "Epoch 102/150\n",
            "6/6 [==============================] - 0s 10ms/step - loss: 0.4218 - accuracy: 0.9341 - val_loss: 1.0743 - val_accuracy: 0.5000\n",
            "Epoch 103/150\n",
            "6/6 [==============================] - 0s 11ms/step - loss: 0.4002 - accuracy: 0.9760 - val_loss: 1.1077 - val_accuracy: 0.4524\n",
            "Epoch 104/150\n",
            "6/6 [==============================] - 0s 10ms/step - loss: 0.4158 - accuracy: 0.9581 - val_loss: 1.1823 - val_accuracy: 0.4286\n",
            "Epoch 105/150\n",
            "6/6 [==============================] - 0s 10ms/step - loss: 0.4237 - accuracy: 0.9581 - val_loss: 1.1019 - val_accuracy: 0.4524\n",
            "Epoch 106/150\n",
            "6/6 [==============================] - 0s 13ms/step - loss: 0.4289 - accuracy: 0.9521 - val_loss: 1.0611 - val_accuracy: 0.5952\n",
            "Epoch 107/150\n",
            "6/6 [==============================] - 0s 13ms/step - loss: 0.3925 - accuracy: 0.9760 - val_loss: 1.1239 - val_accuracy: 0.6667\n",
            "Epoch 108/150\n",
            "6/6 [==============================] - 0s 10ms/step - loss: 0.4765 - accuracy: 0.8982 - val_loss: 1.1444 - val_accuracy: 0.6429\n",
            "Epoch 109/150\n",
            "6/6 [==============================] - 0s 11ms/step - loss: 0.4817 - accuracy: 0.8623 - val_loss: 1.1037 - val_accuracy: 0.4762\n",
            "Epoch 110/150\n",
            "6/6 [==============================] - 0s 10ms/step - loss: 0.5035 - accuracy: 0.8623 - val_loss: 1.1605 - val_accuracy: 0.4762\n",
            "Epoch 111/150\n",
            "6/6 [==============================] - 0s 10ms/step - loss: 0.4318 - accuracy: 0.9281 - val_loss: 1.2700 - val_accuracy: 0.4286\n",
            "Epoch 112/150\n",
            "6/6 [==============================] - 0s 9ms/step - loss: 0.4173 - accuracy: 0.9401 - val_loss: 1.1487 - val_accuracy: 0.4762\n",
            "Epoch 113/150\n",
            "6/6 [==============================] - 0s 10ms/step - loss: 0.3861 - accuracy: 0.9820 - val_loss: 1.1701 - val_accuracy: 0.6667\n",
            "Epoch 114/150\n",
            "6/6 [==============================] - 0s 9ms/step - loss: 0.4777 - accuracy: 0.8922 - val_loss: 1.2705 - val_accuracy: 0.6905\n",
            "Epoch 115/150\n",
            "6/6 [==============================] - 0s 10ms/step - loss: 0.5337 - accuracy: 0.8323 - val_loss: 1.1107 - val_accuracy: 0.6429\n",
            "Epoch 116/150\n",
            "6/6 [==============================] - 0s 11ms/step - loss: 0.4202 - accuracy: 0.9521 - val_loss: 1.1449 - val_accuracy: 0.6667\n",
            "Epoch 117/150\n",
            "6/6 [==============================] - 0s 10ms/step - loss: 0.4294 - accuracy: 0.9341 - val_loss: 1.0129 - val_accuracy: 0.5952\n",
            "Epoch 118/150\n",
            "6/6 [==============================] - 0s 10ms/step - loss: 0.4390 - accuracy: 0.9222 - val_loss: 1.0580 - val_accuracy: 0.4762\n",
            "Epoch 119/150\n",
            "6/6 [==============================] - 0s 11ms/step - loss: 0.4109 - accuracy: 0.9461 - val_loss: 1.1301 - val_accuracy: 0.4524\n",
            "Epoch 120/150\n",
            "6/6 [==============================] - 0s 10ms/step - loss: 0.3904 - accuracy: 0.9641 - val_loss: 1.2665 - val_accuracy: 0.5000\n",
            "Epoch 121/150\n",
            "6/6 [==============================] - 0s 10ms/step - loss: 0.5345 - accuracy: 0.8623 - val_loss: 1.1207 - val_accuracy: 0.5000\n",
            "Epoch 122/150\n",
            "6/6 [==============================] - 0s 15ms/step - loss: 0.4770 - accuracy: 0.8802 - val_loss: 1.3435 - val_accuracy: 0.6905\n",
            "Epoch 123/150\n",
            "6/6 [==============================] - 0s 11ms/step - loss: 0.4750 - accuracy: 0.8743 - val_loss: 1.2405 - val_accuracy: 0.6667\n",
            "Epoch 124/150\n",
            "6/6 [==============================] - 0s 10ms/step - loss: 0.5058 - accuracy: 0.8623 - val_loss: 1.1633 - val_accuracy: 0.5238\n",
            "Epoch 125/150\n",
            "6/6 [==============================] - 0s 10ms/step - loss: 0.4286 - accuracy: 0.9102 - val_loss: 1.2746 - val_accuracy: 0.4048\n",
            "Epoch 126/150\n",
            "6/6 [==============================] - 0s 10ms/step - loss: 0.4208 - accuracy: 0.9281 - val_loss: 1.3192 - val_accuracy: 0.4048\n",
            "Epoch 127/150\n",
            "6/6 [==============================] - 0s 10ms/step - loss: 0.4122 - accuracy: 0.9581 - val_loss: 1.1879 - val_accuracy: 0.4762\n",
            "Epoch 128/150\n",
            "6/6 [==============================] - 0s 14ms/step - loss: 0.3683 - accuracy: 0.9880 - val_loss: 1.1503 - val_accuracy: 0.4762\n",
            "Epoch 129/150\n",
            "6/6 [==============================] - 0s 10ms/step - loss: 0.3668 - accuracy: 0.9820 - val_loss: 1.1348 - val_accuracy: 0.5000\n",
            "Epoch 130/150\n",
            "6/6 [==============================] - 0s 11ms/step - loss: 0.3706 - accuracy: 0.9820 - val_loss: 1.1270 - val_accuracy: 0.5952\n",
            "Epoch 131/150\n",
            "6/6 [==============================] - 0s 10ms/step - loss: 0.3676 - accuracy: 0.9760 - val_loss: 1.1376 - val_accuracy: 0.4524\n",
            "Epoch 132/150\n",
            "6/6 [==============================] - 0s 10ms/step - loss: 0.3746 - accuracy: 0.9641 - val_loss: 1.2454 - val_accuracy: 0.4524\n",
            "Epoch 133/150\n",
            "6/6 [==============================] - 0s 10ms/step - loss: 0.3960 - accuracy: 0.9581 - val_loss: 1.1200 - val_accuracy: 0.5714\n",
            "Epoch 134/150\n",
            "6/6 [==============================] - 0s 10ms/step - loss: 0.3615 - accuracy: 0.9940 - val_loss: 1.1339 - val_accuracy: 0.4524\n",
            "Epoch 135/150\n",
            "6/6 [==============================] - 0s 10ms/step - loss: 0.3699 - accuracy: 0.9641 - val_loss: 1.2996 - val_accuracy: 0.6905\n",
            "Epoch 136/150\n",
            "6/6 [==============================] - 0s 10ms/step - loss: 0.4458 - accuracy: 0.8862 - val_loss: 1.1923 - val_accuracy: 0.6905\n",
            "Epoch 137/150\n",
            "6/6 [==============================] - 0s 13ms/step - loss: 0.5753 - accuracy: 0.8383 - val_loss: 1.0453 - val_accuracy: 0.5952\n",
            "Epoch 138/150\n",
            "6/6 [==============================] - 0s 10ms/step - loss: 0.4469 - accuracy: 0.8922 - val_loss: 1.3004 - val_accuracy: 0.4762\n",
            "Epoch 139/150\n",
            "6/6 [==============================] - 0s 13ms/step - loss: 0.4234 - accuracy: 0.9162 - val_loss: 1.0816 - val_accuracy: 0.4524\n",
            "Epoch 140/150\n",
            "6/6 [==============================] - 0s 14ms/step - loss: 0.3883 - accuracy: 0.9701 - val_loss: 1.0810 - val_accuracy: 0.4524\n",
            "Epoch 141/150\n",
            "6/6 [==============================] - 0s 10ms/step - loss: 0.4483 - accuracy: 0.9162 - val_loss: 1.0648 - val_accuracy: 0.5476\n",
            "Epoch 142/150\n",
            "6/6 [==============================] - 0s 12ms/step - loss: 0.4709 - accuracy: 0.9042 - val_loss: 1.6471 - val_accuracy: 0.6905\n",
            "Epoch 143/150\n",
            "6/6 [==============================] - 0s 11ms/step - loss: 0.5773 - accuracy: 0.8084 - val_loss: 1.3925 - val_accuracy: 0.6667\n",
            "Epoch 144/150\n",
            "6/6 [==============================] - 0s 10ms/step - loss: 0.6562 - accuracy: 0.8263 - val_loss: 1.6714 - val_accuracy: 0.3810\n",
            "Epoch 145/150\n",
            "6/6 [==============================] - 0s 10ms/step - loss: 0.6066 - accuracy: 0.8263 - val_loss: 1.2810 - val_accuracy: 0.4762\n",
            "Epoch 146/150\n",
            "6/6 [==============================] - 0s 10ms/step - loss: 0.5392 - accuracy: 0.8144 - val_loss: 1.3686 - val_accuracy: 0.6667\n",
            "Epoch 147/150\n",
            "6/6 [==============================] - 0s 11ms/step - loss: 0.4348 - accuracy: 0.9162 - val_loss: 1.1193 - val_accuracy: 0.5238\n",
            "Epoch 148/150\n",
            "6/6 [==============================] - 0s 11ms/step - loss: 0.3892 - accuracy: 0.9641 - val_loss: 1.1234 - val_accuracy: 0.4762\n",
            "Epoch 149/150\n",
            "6/6 [==============================] - 0s 11ms/step - loss: 0.3830 - accuracy: 0.9641 - val_loss: 1.1450 - val_accuracy: 0.6429\n",
            "Epoch 150/150\n",
            "6/6 [==============================] - 0s 14ms/step - loss: 0.3782 - accuracy: 0.9521 - val_loss: 1.2045 - val_accuracy: 0.4286\n"
          ]
        },
        {
          "output_type": "execute_result",
          "data": {
            "text/plain": [
              "<matplotlib.legend.Legend at 0x7f05caa22850>"
            ]
          },
          "metadata": {},
          "execution_count": 16
        },
        {
          "output_type": "display_data",
          "data": {
            "image/png": "[encoded data removed]",
            "text/plain": [
              "<Figure size 360x288 with 1 Axes>"
            ]
          },
          "metadata": {
            "needs_background": "light"
          }
        }
      ],
      "source": [
        "# start your code here\n",
        "history_regu = cat_model_regu.fit(\n",
        "    train_x, # input data\n",
        "    train_y, # real output data\n",
        "    validation_split=0.2, # this number is usually betwwen 0 and 0.3. It is the portion used as validation data, \n",
        "    epochs=150, # how many iterations do you want to train your model? Your data will be reused to train the model for the number of epochs. I trained 5 min for this model\n",
        ")\n",
        "# end your code here\n",
        "\n",
        "plt.figure()\n",
        "plt.plot(history_regu.history['loss'])\n",
        "plt.plot(history_regu.history['val_loss'])\n",
        "plt.legend(['loss','val_loss'])"
      ]
    },
    {
      "cell_type": "markdown",
      "metadata": {
        "id": "1WOoKagyPudE"
      },
      "source": [
        "After the training, we can evaluate the regularized NN use the following command. "
      ]
    },
    {
      "cell_type": "code",
      "execution_count": null,
      "metadata": {
        "colab": {
          "base_uri": "https://localhost:8080/"
        },
        "id": "YXZxD8R-P78E",
        "outputId": "c80956de-bece-424d-b33b-7b35809673ca"
      },
      "outputs": [
        {
          "output_type": "stream",
          "name": "stdout",
          "text": [
            "2/2 [==============================] - 0s 5ms/step - loss: 0.7869 - accuracy: 0.8200\n"
          ]
        },
        {
          "output_type": "execute_result",
          "data": {
            "text/plain": [
              "[0.786865234375, 0.8199999928474426]"
            ]
          },
          "metadata": {},
          "execution_count": 17
        }
      ],
      "source": [
        "cat_model_regu.evaluate(test_x,test_y)"
      ]
    },
    {
      "cell_type": "markdown",
      "metadata": {
        "id": "o1IED5YNP7GM"
      },
      "source": [
        "The expected accuracy is highter than 0.8. "
      ]
    }
  ],
  "metadata": {
    "colab": {
      "collapsed_sections": [],
      "name": "regularized_deepNN_tensorflow.ipynb",
      "provenance": [],
      "include_colab_link": true
    },
    "coursera": {
      "course_slug": "neural-networks-deep-learning",
      "graded_item_id": "TSPse",
      "launcher_item_id": "24mxX"
    },
    "kernelspec": {
      "display_name": "Python 3",
      "language": "python",
      "name": "python3"
    },
    "language_info": {
      "codemirror_mode": {
        "name": "ipython",
        "version": 3
      },
      "file_extension": ".py",
      "mimetype": "text/x-python",
      "name": "python",
      "nbconvert_exporter": "python",
      "pygments_lexer": "ipython3",
      "version": "3.8.10"
    }
  },
  "nbformat": 4,
  "nbformat_minor": 0
}